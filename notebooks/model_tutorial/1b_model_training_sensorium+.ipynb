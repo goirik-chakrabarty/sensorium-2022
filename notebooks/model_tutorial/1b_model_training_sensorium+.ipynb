{
 "cells": [
  {
   "cell_type": "markdown",
   "metadata": {
    "pycharm": {
     "name": "#%% md\n"
    }
   },
   "source": [
    "# How to train the Baseline Models for the SENSORIUM+ track"
   ]
  },
  {
   "cell_type": "markdown",
   "metadata": {
    "pycharm": {
     "name": "#%% md\n"
    }
   },
   "source": [
    "### This notebook will show how to\n",
    "- instantiate dataloader for the Sensorium+ track\n",
    "- instantiate pytorch model\n",
    "- instantiate a trainer function\n",
    "- train two baselines for this competition track\n",
    "- save the model weights (the model weights can already be found in './model_checkpoints/pretrained/')"
   ]
  },
  {
   "cell_type": "markdown",
   "metadata": {
    "pycharm": {
     "name": "#%% md\n"
    }
   },
   "source": [
    "### Imports"
   ]
  },
  {
   "cell_type": "code",
   "execution_count": 1,
   "metadata": {
    "pycharm": {
     "name": "#%%\n"
    }
   },
   "outputs": [],
   "source": [
    "import torch\n",
    "import numpy as np\n",
    "import pandas as pd\n",
    "\n",
    "import matplotlib.pyplot as plt\n",
    "import seaborn as sns\n",
    "\n",
    "import warnings\n",
    "warnings.filterwarnings('ignore')\n",
    "\n",
    "from nnfabrik.builder import get_data, get_model, get_trainer"
   ]
  },
  {
   "cell_type": "markdown",
   "metadata": {
    "pycharm": {
     "name": "#%% md\n"
    }
   },
   "source": [
    "### Instantiate DataLoader for Sensorium+"
   ]
  },
  {
   "cell_type": "markdown",
   "metadata": {
    "pycharm": {
     "name": "#%% md\n"
    }
   },
   "source": [
    "The only difference to the Sensorium track is that here, we include the behavioral variables and the eye position,\n",
    "by setting include_behavior=True, and include_eye_position=True.\n",
    "this will append the behavioral variables to the input images, and the eye position will be passed to\n",
    "the shifter network of the model.\n"
   ]
  },
  {
   "cell_type": "code",
   "execution_count": 2,
   "metadata": {
    "collapsed": false,
    "jupyter": {
     "outputs_hidden": false
    },
    "pycharm": {
     "name": "#%%\n"
    }
   },
   "outputs": [],
   "source": [
    "# loading the SENSORIUM+ dataset\n",
    "filenames = ['../data/static27204-5-13-GrayImageNet-94c6ff995dac583098847cfecd43e7b6.zip', ]\n",
    "\n",
    "\n",
    "dataset_fn = 'sensorium.datasets.static_loaders'\n",
    "dataset_config = {'paths': filenames,\n",
    "                 'normalize': True,\n",
    "                 'include_behavior': True,\n",
    "                 'include_eye_position': True,\n",
    "                 'batch_size': 128,\n",
    "                 'scale':.25,\n",
    "                 }\n",
    "\n",
    "dataloaders = get_data(dataset_fn, dataset_config)"
   ]
  },
  {
   "cell_type": "markdown",
   "metadata": {
    "pycharm": {
     "name": "#%% md\n"
    }
   },
   "source": [
    "# Instantiate State of the Art Model (SOTA)"
   ]
  },
  {
   "cell_type": "markdown",
   "metadata": {
    "pycharm": {
     "name": "#%% md\n"
    }
   },
   "source": [
    "Because the behavioral variables are available, we instantiate the Shifter network\n",
    "by setting Shifter=True in the model configuration."
   ]
  },
  {
   "cell_type": "code",
   "execution_count": 3,
   "metadata": {
    "collapsed": false,
    "jupyter": {
     "outputs_hidden": false
    },
    "pycharm": {
     "name": "#%%\n"
    }
   },
   "outputs": [],
   "source": [
    "model_fn = 'sensorium.models.stacked_core_full_gauss_readout'\n",
    "model_config = {'pad_input': False,\n",
    "  'stack': -1,\n",
    "  'layers': 4,\n",
    "  'input_kern': 9,\n",
    "  'gamma_input': 6.3831,\n",
    "  'gamma_readout': 0.0076,\n",
    "  'hidden_kern': 7,\n",
    "  'hidden_channels': 64,\n",
    "  'depth_separable': True,\n",
    "  'grid_mean_predictor': {'type': 'cortex',\n",
    "   'input_dimensions': 2,\n",
    "   'hidden_layers': 1,\n",
    "   'hidden_features': 30,\n",
    "   'final_tanh': True},\n",
    "  'init_sigma': 0.1,\n",
    "  'init_mu_range': 0.3,\n",
    "  'gauss_type': 'full',\n",
    "  'shifter': True,\n",
    "}\n",
    "\n",
    "model = get_model(model_fn=model_fn,\n",
    "                  model_config=model_config,\n",
    "                  dataloaders=dataloaders,\n",
    "                  seed=42,)"
   ]
  },
  {
   "cell_type": "markdown",
   "metadata": {},
   "source": [
    "Because the behavioral variables are available, we instantiate the Shifter network\n",
    "by setting Shifter=True in the model configuration."
   ]
  },
  {
   "cell_type": "code",
   "execution_count": 4,
   "metadata": {
    "pycharm": {
     "name": "#%%\n"
    }
   },
   "outputs": [],
   "source": [
    "model_fn = 'sensorium.models.stacked_core_full_gauss_readout'\n",
    "model_config = {'pad_input': False,\n",
    "  'stack': -1,\n",
    "  'layers': 4,\n",
    "  'input_kern': 9,\n",
    "  'gamma_input': 6.3831,\n",
    "  'gamma_readout': 0.0076,\n",
    "  'hidden_kern': 7,\n",
    "  'hidden_channels': 64,\n",
    "  'depth_separable': True,\n",
    "  'grid_mean_predictor': {'type': 'cortex',\n",
    "   'input_dimensions': 2,\n",
    "   'hidden_layers': 1,\n",
    "   'hidden_features': 30,\n",
    "   'final_tanh': True},\n",
    "  'init_sigma': 0.1,\n",
    "  'init_mu_range': 0.3,\n",
    "  'gauss_type': 'full',\n",
    "  'shifter': True,\n",
    "}\n",
    "\n",
    "model = get_model(model_fn=model_fn,\n",
    "                  model_config=model_config,\n",
    "                  dataloaders=dataloaders,\n",
    "                  seed=42,)"
   ]
  },
  {
   "cell_type": "markdown",
   "metadata": {
    "pycharm": {
     "name": "#%% md\n"
    }
   },
   "source": [
    "## Configure Trainer"
   ]
  },
  {
   "cell_type": "code",
   "execution_count": 5,
   "metadata": {
    "pycharm": {
     "name": "#%%\n"
    }
   },
   "outputs": [],
   "source": [
    "trainer_fn = \"sensorium.training.standard_trainer\"\n",
    "\n",
    "trainer_config = {'max_iter': 200,\n",
    "                 'verbose': False,\n",
    "                 'lr_decay_steps': 4,\n",
    "                 'avg_loss': False,\n",
    "                 'lr_init': 0.009,\n",
    "                 }\n",
    "\n",
    "trainer = get_trainer(trainer_fn=trainer_fn, \n",
    "                     trainer_config=trainer_config)"
   ]
  },
  {
   "cell_type": "markdown",
   "metadata": {
    "pycharm": {
     "name": "#%% md\n"
    }
   },
   "source": [
    "# Run model training"
   ]
  },
  {
   "cell_type": "code",
   "execution_count": 6,
   "metadata": {
    "pycharm": {
     "name": "#%%\n"
    }
   },
   "outputs": [
    {
     "name": "stderr",
     "output_type": "stream",
     "text": [
      "Epoch 1: 100%|██████████| 35/35 [00:33<00:00,  1.04it/s]\n",
      "Epoch 2: 100%|██████████| 35/35 [00:05<00:00,  6.81it/s]\n",
      "Epoch 3: 100%|██████████| 35/35 [00:05<00:00,  6.99it/s]\n",
      "Epoch 4: 100%|██████████| 35/35 [00:04<00:00,  7.11it/s]\n",
      "Epoch 5: 100%|██████████| 35/35 [00:05<00:00,  6.98it/s]\n",
      "Epoch 6: 100%|██████████| 35/35 [00:04<00:00,  7.06it/s]\n",
      "Epoch 7: 100%|██████████| 35/35 [00:04<00:00,  7.11it/s]\n",
      "Epoch 8: 100%|██████████| 35/35 [00:04<00:00,  7.05it/s]\n",
      "Epoch 9: 100%|██████████| 35/35 [00:05<00:00,  6.94it/s]\n",
      "Epoch 10: 100%|██████████| 35/35 [00:05<00:00,  6.98it/s]\n",
      "Epoch 11: 100%|██████████| 35/35 [00:04<00:00,  7.06it/s]\n",
      "Epoch 12: 100%|██████████| 35/35 [00:04<00:00,  7.11it/s]\n",
      "Epoch 13: 100%|██████████| 35/35 [00:04<00:00,  7.03it/s]\n",
      "Epoch 14: 100%|██████████| 35/35 [00:04<00:00,  7.12it/s]\n",
      "Epoch 15: 100%|██████████| 35/35 [00:04<00:00,  7.10it/s]\n",
      "Epoch 16: 100%|██████████| 35/35 [00:04<00:00,  7.13it/s]\n",
      "Epoch 17: 100%|██████████| 35/35 [00:04<00:00,  7.13it/s]\n",
      "Epoch 18: 100%|██████████| 35/35 [00:04<00:00,  7.10it/s]\n",
      "Epoch 19: 100%|██████████| 35/35 [00:04<00:00,  7.12it/s]\n",
      "Epoch 20: 100%|██████████| 35/35 [00:05<00:00,  6.97it/s]\n",
      "Epoch 21: 100%|██████████| 35/35 [00:05<00:00,  6.96it/s]\n",
      "Epoch 22: 100%|██████████| 35/35 [00:04<00:00,  7.09it/s]\n",
      "Epoch 23: 100%|██████████| 35/35 [00:04<00:00,  7.12it/s]\n",
      "Epoch 24: 100%|██████████| 35/35 [00:04<00:00,  7.12it/s]\n",
      "Epoch 25: 100%|██████████| 35/35 [00:04<00:00,  7.13it/s]\n",
      "Epoch 26: 100%|██████████| 35/35 [00:04<00:00,  7.11it/s]\n",
      "Epoch 27: 100%|██████████| 35/35 [00:04<00:00,  7.08it/s]\n",
      "Epoch 28: 100%|██████████| 35/35 [00:05<00:00,  6.97it/s]\n",
      "Epoch 29: 100%|██████████| 35/35 [00:04<00:00,  7.06it/s]\n",
      "Epoch 30: 100%|██████████| 35/35 [00:04<00:00,  7.06it/s]\n",
      "Epoch 31: 100%|██████████| 35/35 [00:04<00:00,  7.07it/s]\n",
      "Epoch 32: 100%|██████████| 35/35 [00:05<00:00,  6.98it/s]\n",
      "Epoch 33: 100%|██████████| 35/35 [00:05<00:00,  6.94it/s]\n",
      "Epoch 34: 100%|██████████| 35/35 [00:04<00:00,  7.06it/s]\n",
      "Epoch 35: 100%|██████████| 35/35 [00:04<00:00,  7.08it/s]\n",
      "Epoch 36: 100%|██████████| 35/35 [00:05<00:00,  6.98it/s]\n",
      "Epoch 37: 100%|██████████| 35/35 [00:04<00:00,  7.06it/s]\n",
      "Epoch 38: 100%|██████████| 35/35 [00:04<00:00,  7.05it/s]\n",
      "Epoch 39: 100%|██████████| 35/35 [00:04<00:00,  7.11it/s]\n",
      "Epoch 40: 100%|██████████| 35/35 [00:04<00:00,  7.11it/s]\n",
      "Epoch 41: 100%|██████████| 35/35 [00:04<00:00,  7.08it/s]\n",
      "Epoch 42: 100%|██████████| 35/35 [00:04<00:00,  7.07it/s]\n",
      "Epoch 43: 100%|██████████| 35/35 [00:05<00:00,  6.96it/s]\n",
      "Epoch 44: 100%|██████████| 35/35 [00:05<00:00,  6.81it/s]\n",
      "Epoch 45: 100%|██████████| 35/35 [00:05<00:00,  6.99it/s]\n",
      "Epoch 46: 100%|██████████| 35/35 [00:05<00:00,  6.88it/s]\n",
      "Epoch 47: 100%|██████████| 35/35 [00:04<00:00,  7.07it/s]\n",
      "Epoch 48: 100%|██████████| 35/35 [00:05<00:00,  7.00it/s]\n",
      "Epoch 49: 100%|██████████| 35/35 [00:05<00:00,  6.91it/s]\n",
      "Epoch 50: 100%|██████████| 35/35 [00:05<00:00,  6.96it/s]\n",
      "Epoch 51: 100%|██████████| 35/35 [00:05<00:00,  6.80it/s]\n",
      "Epoch 52: 100%|██████████| 35/35 [00:04<00:00,  7.08it/s]\n",
      "Epoch 53: 100%|██████████| 35/35 [00:04<00:00,  7.07it/s]\n",
      "Epoch 54: 100%|██████████| 35/35 [00:05<00:00,  6.89it/s]\n",
      "Epoch 55: 100%|██████████| 35/35 [00:04<00:00,  7.04it/s]\n",
      "Epoch 56: 100%|██████████| 35/35 [00:04<00:00,  7.08it/s]\n",
      "Epoch 57: 100%|██████████| 35/35 [00:04<00:00,  7.10it/s]\n",
      "Epoch 58: 100%|██████████| 35/35 [00:05<00:00,  6.99it/s]\n",
      "Epoch 59: 100%|██████████| 35/35 [00:04<00:00,  7.04it/s]\n",
      "Epoch 60: 100%|██████████| 35/35 [00:05<00:00,  6.91it/s]\n",
      "Epoch 61: 100%|██████████| 35/35 [00:04<00:00,  7.10it/s]\n",
      "Epoch 62: 100%|██████████| 35/35 [00:04<00:00,  7.08it/s]\n",
      "Epoch 63: 100%|██████████| 35/35 [00:04<00:00,  7.09it/s]\n",
      "Epoch 64: 100%|██████████| 35/35 [00:04<00:00,  7.13it/s]\n",
      "Epoch 65: 100%|██████████| 35/35 [00:04<00:00,  7.12it/s]\n",
      "Epoch 66: 100%|██████████| 35/35 [00:04<00:00,  7.02it/s]\n",
      "Epoch 67: 100%|██████████| 35/35 [00:04<00:00,  7.12it/s]\n",
      "Epoch 68: 100%|██████████| 35/35 [00:04<00:00,  7.11it/s]\n",
      "Epoch 69: 100%|██████████| 35/35 [00:04<00:00,  7.10it/s]\n",
      "Epoch 70: 100%|██████████| 35/35 [00:05<00:00,  6.99it/s]\n",
      "Epoch 71: 100%|██████████| 35/35 [00:04<00:00,  7.02it/s]\n",
      "Epoch 72: 100%|██████████| 35/35 [00:04<00:00,  7.12it/s]\n",
      "Epoch 73: 100%|██████████| 35/35 [00:04<00:00,  7.06it/s]\n",
      "Epoch 74: 100%|██████████| 35/35 [00:05<00:00,  6.99it/s]\n",
      "Epoch 75: 100%|██████████| 35/35 [00:04<00:00,  7.08it/s]\n",
      "Epoch 76: 100%|██████████| 35/35 [00:04<00:00,  7.09it/s]\n",
      "Epoch 77: 100%|██████████| 35/35 [00:04<00:00,  7.08it/s]\n",
      "Epoch 78: 100%|██████████| 35/35 [00:04<00:00,  7.07it/s]\n",
      "Epoch 79: 100%|██████████| 35/35 [00:04<00:00,  7.07it/s]\n",
      "Epoch 80: 100%|██████████| 35/35 [00:04<00:00,  7.09it/s]\n",
      "Epoch 81: 100%|██████████| 35/35 [00:04<00:00,  7.00it/s]\n",
      "Epoch 82: 100%|██████████| 35/35 [00:05<00:00,  6.97it/s]\n",
      "Epoch 83: 100%|██████████| 35/35 [00:04<00:00,  7.00it/s]\n",
      "Epoch 84: 100%|██████████| 35/35 [00:04<00:00,  7.14it/s]\n",
      "Epoch 85: 100%|██████████| 35/35 [00:04<00:00,  7.13it/s]\n",
      "Epoch 86: 100%|██████████| 35/35 [00:04<00:00,  7.13it/s]\n",
      "Epoch 87: 100%|██████████| 35/35 [00:04<00:00,  7.13it/s]\n",
      "Epoch 88: 100%|██████████| 35/35 [00:04<00:00,  7.10it/s]\n",
      "Epoch 89: 100%|██████████| 35/35 [00:04<00:00,  7.01it/s]\n",
      "Epoch 90: 100%|██████████| 35/35 [00:04<00:00,  7.10it/s]\n",
      "Epoch 91: 100%|██████████| 35/35 [00:04<00:00,  7.13it/s]\n",
      "Epoch 92: 100%|██████████| 35/35 [00:04<00:00,  7.11it/s]\n",
      "Epoch 93: 100%|██████████| 35/35 [00:04<00:00,  7.12it/s]\n",
      "Epoch 94: 100%|██████████| 35/35 [00:04<00:00,  7.04it/s]\n",
      "Epoch 95: 100%|██████████| 35/35 [00:05<00:00,  7.00it/s]\n"
     ]
    }
   ],
   "source": [
    "validation_score, trainer_output, state_dict = trainer(model, dataloaders, seed=42)"
   ]
  },
  {
   "cell_type": "markdown",
   "metadata": {
    "pycharm": {
     "name": "#%% md\n"
    }
   },
   "source": [
    "## Save model checkpoints"
   ]
  },
  {
   "cell_type": "code",
   "execution_count": 7,
   "metadata": {
    "pycharm": {
     "name": "#%%\n"
    }
   },
   "outputs": [],
   "source": [
    "torch.save(model.state_dict(), './model_checkpoints/sensorium_p_sota_model.pth')"
   ]
  },
  {
   "cell_type": "code",
   "execution_count": 8,
   "metadata": {},
   "outputs": [
    {
     "data": {
      "text/plain": [
       "0.39031154"
      ]
     },
     "execution_count": 8,
     "metadata": {},
     "output_type": "execute_result"
    }
   ],
   "source": [
    "validation_score"
   ]
  },
  {
   "cell_type": "markdown",
   "metadata": {
    "pycharm": {
     "name": "#%% md\n"
    }
   },
   "source": [
    "## Load Model Checkpoints"
   ]
  },
  {
   "cell_type": "code",
   "execution_count": 9,
   "metadata": {
    "pycharm": {
     "name": "#%%\n"
    }
   },
   "outputs": [],
   "source": [
    "# model.load_state_dict(torch.load(\"./model_checkpoints/pretrained/sensorium_p_sota_model.pth\"));"
   ]
  },
  {
   "cell_type": "markdown",
   "metadata": {
    "pycharm": {
     "name": "#%% md\n"
    }
   },
   "source": [
    "---"
   ]
  },
  {
   "cell_type": "markdown",
   "metadata": {
    "pycharm": {
     "name": "#%% md\n"
    }
   },
   "source": [
    "# Train a simple LN model"
   ]
  },
  {
   "cell_type": "code",
   "execution_count": 10,
   "metadata": {
    "pycharm": {
     "name": "#%%\n"
    }
   },
   "outputs": [],
   "source": [
    "# this will remove all nonlinearities from the CNN, and creates essentially a ln model: linear core + readout, with a subsequent non-linearity\n",
    "\n",
    "model_fn = 'sensorium.models.stacked_core_full_gauss_readout'\n",
    "model_config = {'pad_input': False,\n",
    "              'stack': -1,\n",
    "              'layers': 3,\n",
    "              'input_kern': 9,\n",
    "              'gamma_input': 6.3831,\n",
    "              'gamma_readout': 0.0076,\n",
    "              'hidden_kern': 7,\n",
    "              'hidden_channels': 64,\n",
    "              'grid_mean_predictor': {'type': 'cortex',\n",
    "              'input_dimensions': 2,\n",
    "              'hidden_layers': 1,\n",
    "              'hidden_features': 30,\n",
    "              'final_tanh': True},\n",
    "              'depth_separable': True,\n",
    "              'init_sigma': 0.1,\n",
    "              'init_mu_range': 0.3,\n",
    "              'gauss_type': 'full',\n",
    "              'linear': True,\n",
    "              'shifter': True,\n",
    "               }\n",
    "model = get_model(model_fn=model_fn,\n",
    "                  model_config=model_config,\n",
    "                  dataloaders=dataloaders,\n",
    "                  seed=42,)"
   ]
  },
  {
   "cell_type": "code",
   "execution_count": 11,
   "metadata": {
    "pycharm": {
     "is_executing": true,
     "name": "#%%\n"
    }
   },
   "outputs": [
    {
     "name": "stderr",
     "output_type": "stream",
     "text": [
      "Epoch 1: 100%|██████████| 35/35 [00:04<00:00,  7.62it/s]\n",
      "Epoch 2: 100%|██████████| 35/35 [00:04<00:00,  7.65it/s]\n",
      "Epoch 3: 100%|██████████| 35/35 [00:04<00:00,  7.68it/s]\n",
      "Epoch 4: 100%|██████████| 35/35 [00:04<00:00,  7.65it/s]\n",
      "Epoch 5: 100%|██████████| 35/35 [00:04<00:00,  7.65it/s]\n",
      "Epoch 6: 100%|██████████| 35/35 [00:04<00:00,  7.63it/s]\n",
      "Epoch 7: 100%|██████████| 35/35 [00:04<00:00,  7.62it/s]\n",
      "Epoch 8: 100%|██████████| 35/35 [00:04<00:00,  7.55it/s]\n",
      "Epoch 9: 100%|██████████| 35/35 [00:04<00:00,  7.62it/s]\n",
      "Epoch 10: 100%|██████████| 35/35 [00:04<00:00,  7.52it/s]\n",
      "Epoch 11: 100%|██████████| 35/35 [00:04<00:00,  7.47it/s]\n",
      "Epoch 12: 100%|██████████| 35/35 [00:04<00:00,  7.51it/s]\n",
      "Epoch 13: 100%|██████████| 35/35 [00:04<00:00,  7.57it/s]\n",
      "Epoch 14: 100%|██████████| 35/35 [00:04<00:00,  7.60it/s]\n",
      "Epoch 15: 100%|██████████| 35/35 [00:04<00:00,  7.47it/s]\n",
      "Epoch 16: 100%|██████████| 35/35 [00:04<00:00,  7.59it/s]\n",
      "Epoch 17: 100%|██████████| 35/35 [00:04<00:00,  7.58it/s]\n",
      "Epoch 18: 100%|██████████| 35/35 [00:04<00:00,  7.57it/s]\n",
      "Epoch 19: 100%|██████████| 35/35 [00:04<00:00,  7.55it/s]\n",
      "Epoch 20: 100%|██████████| 35/35 [00:04<00:00,  7.58it/s]\n",
      "Epoch 21: 100%|██████████| 35/35 [00:04<00:00,  7.58it/s]\n",
      "Epoch 22: 100%|██████████| 35/35 [00:04<00:00,  7.59it/s]\n",
      "Epoch 23: 100%|██████████| 35/35 [00:04<00:00,  7.43it/s]\n",
      "Epoch 24: 100%|██████████| 35/35 [00:04<00:00,  7.48it/s]\n",
      "Epoch 25: 100%|██████████| 35/35 [00:04<00:00,  7.52it/s]\n",
      "Epoch 26: 100%|██████████| 35/35 [00:04<00:00,  7.56it/s]\n",
      "Epoch 27: 100%|██████████| 35/35 [00:04<00:00,  7.57it/s]\n",
      "Epoch 28: 100%|██████████| 35/35 [00:04<00:00,  7.57it/s]\n",
      "Epoch 29: 100%|██████████| 35/35 [00:04<00:00,  7.56it/s]\n",
      "Epoch 30: 100%|██████████| 35/35 [00:04<00:00,  7.54it/s]\n",
      "Epoch 31: 100%|██████████| 35/35 [00:04<00:00,  7.46it/s]\n",
      "Epoch 32: 100%|██████████| 35/35 [00:04<00:00,  7.55it/s]\n",
      "Epoch 33: 100%|██████████| 35/35 [00:04<00:00,  7.52it/s]\n",
      "Epoch 34: 100%|██████████| 35/35 [00:04<00:00,  7.51it/s]\n",
      "Epoch 35: 100%|██████████| 35/35 [00:04<00:00,  7.51it/s]\n",
      "Epoch 36: 100%|██████████| 35/35 [00:04<00:00,  7.46it/s]\n",
      "Epoch 37: 100%|██████████| 35/35 [00:04<00:00,  7.36it/s]\n",
      "Epoch 38: 100%|██████████| 35/35 [00:04<00:00,  7.35it/s]\n",
      "Epoch 39: 100%|██████████| 35/35 [00:04<00:00,  7.50it/s]\n",
      "Epoch 40: 100%|██████████| 35/35 [00:04<00:00,  7.51it/s]\n",
      "Epoch 41: 100%|██████████| 35/35 [00:04<00:00,  7.52it/s]\n",
      "Epoch 42: 100%|██████████| 35/35 [00:04<00:00,  7.54it/s]\n",
      "Epoch 43: 100%|██████████| 35/35 [00:04<00:00,  7.53it/s]\n",
      "Epoch 44: 100%|██████████| 35/35 [00:04<00:00,  7.57it/s]\n",
      "Epoch 45: 100%|██████████| 35/35 [00:04<00:00,  7.47it/s]\n",
      "Epoch 46: 100%|██████████| 35/35 [00:04<00:00,  7.59it/s]\n",
      "Epoch 47: 100%|██████████| 35/35 [00:04<00:00,  7.58it/s]\n",
      "Epoch 48: 100%|██████████| 35/35 [00:04<00:00,  7.57it/s]\n",
      "Epoch 49: 100%|██████████| 35/35 [00:04<00:00,  7.48it/s]\n",
      "Epoch 50: 100%|██████████| 35/35 [00:04<00:00,  7.44it/s]\n",
      "Epoch 51: 100%|██████████| 35/35 [00:04<00:00,  7.58it/s]\n",
      "Epoch 52: 100%|██████████| 35/35 [00:04<00:00,  7.61it/s]\n",
      "Epoch 53: 100%|██████████| 35/35 [00:04<00:00,  7.48it/s]\n",
      "Epoch 54: 100%|██████████| 35/35 [00:04<00:00,  7.57it/s]\n",
      "Epoch 55: 100%|██████████| 35/35 [00:04<00:00,  7.56it/s]\n",
      "Epoch 56: 100%|██████████| 35/35 [00:04<00:00,  7.59it/s]\n",
      "Epoch 57: 100%|██████████| 35/35 [00:04<00:00,  7.59it/s]\n",
      "Epoch 58: 100%|██████████| 35/35 [00:04<00:00,  7.58it/s]\n",
      "Epoch 59: 100%|██████████| 35/35 [00:04<00:00,  7.58it/s]\n",
      "Epoch 60: 100%|██████████| 35/35 [00:04<00:00,  7.60it/s]\n",
      "Epoch 61: 100%|██████████| 35/35 [00:04<00:00,  7.53it/s]\n",
      "Epoch 62: 100%|██████████| 35/35 [00:04<00:00,  7.57it/s]\n",
      "Epoch 63: 100%|██████████| 35/35 [00:04<00:00,  7.41it/s]\n",
      "Epoch 64: 100%|██████████| 35/35 [00:04<00:00,  7.48it/s]\n",
      "Epoch 65: 100%|██████████| 35/35 [00:04<00:00,  7.57it/s]\n",
      "Epoch 66: 100%|██████████| 35/35 [00:04<00:00,  7.57it/s]\n",
      "Epoch 67: 100%|██████████| 35/35 [00:04<00:00,  7.54it/s]\n",
      "Epoch 68: 100%|██████████| 35/35 [00:04<00:00,  7.54it/s]\n",
      "Epoch 69: 100%|██████████| 35/35 [00:04<00:00,  7.43it/s]\n",
      "Epoch 70: 100%|██████████| 35/35 [00:04<00:00,  7.56it/s]\n",
      "Epoch 71: 100%|██████████| 35/35 [00:04<00:00,  7.56it/s]\n",
      "Epoch 72: 100%|██████████| 35/35 [00:04<00:00,  7.55it/s]\n",
      "Epoch 73: 100%|██████████| 35/35 [00:04<00:00,  7.55it/s]\n",
      "Epoch 74: 100%|██████████| 35/35 [00:04<00:00,  7.55it/s]\n",
      "Epoch 75: 100%|██████████| 35/35 [00:04<00:00,  7.48it/s]\n",
      "Epoch 76: 100%|██████████| 35/35 [00:04<00:00,  7.34it/s]\n",
      "Epoch 77: 100%|██████████| 35/35 [00:04<00:00,  7.50it/s]\n",
      "Epoch 78: 100%|██████████| 35/35 [00:04<00:00,  7.56it/s]\n",
      "Epoch 79: 100%|██████████| 35/35 [00:04<00:00,  7.58it/s]\n",
      "Epoch 80: 100%|██████████| 35/35 [00:04<00:00,  7.58it/s]\n",
      "Epoch 81: 100%|██████████| 35/35 [00:04<00:00,  7.58it/s]\n",
      "Epoch 82: 100%|██████████| 35/35 [00:04<00:00,  7.58it/s]\n",
      "Epoch 83: 100%|██████████| 35/35 [00:04<00:00,  7.58it/s]\n",
      "Epoch 84: 100%|██████████| 35/35 [00:04<00:00,  7.42it/s]\n",
      "Epoch 85: 100%|██████████| 35/35 [00:04<00:00,  7.56it/s]\n",
      "Epoch 86: 100%|██████████| 35/35 [00:04<00:00,  7.53it/s]\n",
      "Epoch 87: 100%|██████████| 35/35 [00:04<00:00,  7.58it/s]\n",
      "Epoch 88: 100%|██████████| 35/35 [00:04<00:00,  7.51it/s]\n",
      "Epoch 89: 100%|██████████| 35/35 [00:04<00:00,  7.45it/s]\n",
      "Epoch 90: 100%|██████████| 35/35 [00:04<00:00,  7.46it/s]\n",
      "Epoch 91: 100%|██████████| 35/35 [00:04<00:00,  7.55it/s]\n",
      "Epoch 92: 100%|██████████| 35/35 [00:04<00:00,  7.42it/s]\n",
      "Epoch 93: 100%|██████████| 35/35 [00:04<00:00,  7.53it/s]\n",
      "Epoch 94: 100%|██████████| 35/35 [00:04<00:00,  7.56it/s]\n",
      "Epoch 95: 100%|██████████| 35/35 [00:04<00:00,  7.56it/s]\n",
      "Epoch 96: 100%|██████████| 35/35 [00:04<00:00,  7.56it/s]\n",
      "Epoch 97: 100%|██████████| 35/35 [00:04<00:00,  7.55it/s]\n",
      "Epoch 98: 100%|██████████| 35/35 [00:04<00:00,  7.59it/s]\n",
      "Epoch 99: 100%|██████████| 35/35 [00:04<00:00,  7.56it/s]\n",
      "Epoch 100: 100%|██████████| 35/35 [00:04<00:00,  7.58it/s]\n",
      "Epoch 101: 100%|██████████| 35/35 [00:04<00:00,  7.49it/s]\n",
      "Epoch 102: 100%|██████████| 35/35 [00:04<00:00,  7.45it/s]\n",
      "Epoch 103: 100%|██████████| 35/35 [00:04<00:00,  7.58it/s]\n",
      "Epoch 104: 100%|██████████| 35/35 [00:04<00:00,  7.55it/s]\n",
      "Epoch 105: 100%|██████████| 35/35 [00:04<00:00,  7.59it/s]\n",
      "Epoch 106: 100%|██████████| 35/35 [00:04<00:00,  7.61it/s]\n",
      "Epoch 107: 100%|██████████| 35/35 [00:04<00:00,  7.48it/s]\n",
      "Epoch 108: 100%|██████████| 35/35 [00:04<00:00,  7.59it/s]\n",
      "Epoch 109: 100%|██████████| 35/35 [00:04<00:00,  7.57it/s]\n",
      "Epoch 110: 100%|██████████| 35/35 [00:04<00:00,  7.56it/s]\n",
      "Epoch 111: 100%|██████████| 35/35 [00:04<00:00,  7.56it/s]\n",
      "Epoch 112: 100%|██████████| 35/35 [00:04<00:00,  7.57it/s]\n",
      "Epoch 113: 100%|██████████| 35/35 [00:04<00:00,  7.56it/s]\n",
      "Epoch 114: 100%|██████████| 35/35 [00:04<00:00,  7.53it/s]\n",
      "Epoch 115: 100%|██████████| 35/35 [00:04<00:00,  7.36it/s]\n",
      "Epoch 116: 100%|██████████| 35/35 [00:04<00:00,  7.50it/s]\n",
      "Epoch 117: 100%|██████████| 35/35 [00:04<00:00,  7.56it/s]\n",
      "Epoch 118: 100%|██████████| 35/35 [00:04<00:00,  7.58it/s]\n",
      "Epoch 119: 100%|██████████| 35/35 [00:04<00:00,  7.55it/s]\n",
      "Epoch 120: 100%|██████████| 35/35 [00:04<00:00,  7.56it/s]\n",
      "Epoch 121: 100%|██████████| 35/35 [00:04<00:00,  7.55it/s]\n",
      "Epoch 122: 100%|██████████| 35/35 [00:04<00:00,  7.55it/s]\n",
      "Epoch 123: 100%|██████████| 35/35 [00:04<00:00,  7.58it/s]\n",
      "Epoch 124: 100%|██████████| 35/35 [00:04<00:00,  7.56it/s]\n",
      "Epoch 125: 100%|██████████| 35/35 [00:04<00:00,  7.57it/s]\n",
      "Epoch 126: 100%|██████████| 35/35 [00:04<00:00,  7.56it/s]\n",
      "Epoch 127: 100%|██████████| 35/35 [00:04<00:00,  7.45it/s]\n",
      "Epoch 128: 100%|██████████| 35/35 [00:04<00:00,  7.45it/s]\n",
      "Epoch 129: 100%|██████████| 35/35 [00:04<00:00,  7.60it/s]\n",
      "Epoch 130: 100%|██████████| 35/35 [00:04<00:00,  7.46it/s]\n",
      "Epoch 131: 100%|██████████| 35/35 [00:04<00:00,  7.57it/s]\n",
      "Epoch 132: 100%|██████████| 35/35 [00:04<00:00,  7.59it/s]\n",
      "Epoch 133: 100%|██████████| 35/35 [00:04<00:00,  7.57it/s]\n",
      "Epoch 134: 100%|██████████| 35/35 [00:04<00:00,  7.58it/s]\n",
      "Epoch 135: 100%|██████████| 35/35 [00:04<00:00,  7.58it/s]\n",
      "Epoch 136: 100%|██████████| 35/35 [00:04<00:00,  7.57it/s]\n",
      "Epoch 137: 100%|██████████| 35/35 [00:04<00:00,  7.61it/s]\n",
      "Epoch 138: 100%|██████████| 35/35 [00:04<00:00,  7.52it/s]\n",
      "Epoch 139: 100%|██████████| 35/35 [00:04<00:00,  7.50it/s]\n"
     ]
    }
   ],
   "source": [
    "validation_score, trainer_output, state_dict = trainer(model, dataloaders, seed=42)"
   ]
  },
  {
   "cell_type": "code",
   "execution_count": 12,
   "metadata": {
    "pycharm": {
     "name": "#%%\n"
    }
   },
   "outputs": [],
   "source": [
    "torch.save(model.state_dict(), './model_checkpoints/sensorium_p_ln_model.pth')"
   ]
  },
  {
   "cell_type": "code",
   "execution_count": 13,
   "metadata": {},
   "outputs": [
    {
     "data": {
      "text/plain": [
       "0.26657087"
      ]
     },
     "execution_count": 13,
     "metadata": {},
     "output_type": "execute_result"
    }
   ],
   "source": [
    "validation_score"
   ]
  },
  {
   "cell_type": "code",
   "execution_count": 14,
   "metadata": {
    "pycharm": {
     "name": "#%%\n"
    }
   },
   "outputs": [],
   "source": [
    "# model.load_state_dict(torch.load(\"./model_checkpoints/pretrained/sensorium_p_ln_model.pth\"));"
   ]
  },
  {
   "cell_type": "markdown",
   "metadata": {
    "pycharm": {
     "name": "#%% md\n"
    }
   },
   "source": [
    "---"
   ]
  }
 ],
 "metadata": {
  "kernelspec": {
   "display_name": "Python 3",
   "language": "python",
   "name": "python3"
  },
  "language_info": {
   "codemirror_mode": {
    "name": "ipython",
    "version": 3
   },
   "file_extension": ".py",
   "mimetype": "text/x-python",
   "name": "python",
   "nbconvert_exporter": "python",
   "pygments_lexer": "ipython3",
   "version": "3.8.0"
  }
 },
 "nbformat": 4,
 "nbformat_minor": 4
}
