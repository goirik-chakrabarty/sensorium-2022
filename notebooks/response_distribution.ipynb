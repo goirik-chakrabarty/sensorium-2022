{
 "cells": [
  {
   "cell_type": "code",
   "execution_count": 1,
   "metadata": {},
   "outputs": [],
   "source": [
    "import torch\n",
    "import numpy as np\n",
    "import pandas as pd\n",
    "from tqdm import tqdm\n",
    "\n",
    "import matplotlib.pyplot as plt\n",
    "import seaborn as sns\n",
    "\n",
    "import warnings\n",
    "warnings.filterwarnings('ignore')\n",
    "\n",
    "from nnfabrik.builder import get_data, get_model, get_trainer\n",
    "\n",
    "from neuralpredictors.training import (\n",
    "    LongCycler,\n",
    "    MultipleObjectiveTracker,\n",
    "    early_stopping,\n",
    ")\n",
    "\n",
    "# loading the SENSORIUM dataset\n",
    "filenames = ['data/static26872-17-20-GrayImageNet-94c6ff995dac583098847cfecd43e7b6.zip', ]\n",
    "\n",
    "dataset_fn = 'sensorium.datasets.static_loaders'\n",
    "dataset_config = {'paths': filenames,\n",
    "                 'normalize': True,\n",
    "                 'include_behavior': False,\n",
    "                 'include_eye_position': False,\n",
    "                 'batch_size': 128,\n",
    "                 'scale':0.25,\n",
    "                 }\n",
    "\n",
    "dataloaders = get_data(dataset_fn, dataset_config)"
   ]
  },
  {
   "cell_type": "code",
   "execution_count": 2,
   "metadata": {},
   "outputs": [],
   "source": [
    "import os \n",
    "\n",
    "path = 'data/static26872-17-20-GrayImageNet-94c6ff995dac583098847cfecd43e7b6/data/responses'\n",
    "n_files = len(os.listdir(path))\n",
    "responses = []\n",
    "for i in range(n_files):\n",
    "    res = np.load(path+f'/{i}.npy')\n",
    "    responses.append(np.expand_dims(res, axis=0))"
   ]
  },
  {
   "cell_type": "code",
   "execution_count": 3,
   "metadata": {},
   "outputs": [],
   "source": [
    "responses = np.concatenate(responses, axis=0)"
   ]
  },
  {
   "cell_type": "code",
   "execution_count": 4,
   "metadata": {},
   "outputs": [
    {
     "data": {
      "text/plain": [
       "(6955, 7776)"
      ]
     },
     "execution_count": 4,
     "metadata": {},
     "output_type": "execute_result"
    }
   ],
   "source": [
    "responses.shape"
   ]
  },
  {
   "cell_type": "code",
   "execution_count": null,
   "metadata": {},
   "outputs": [],
   "source": []
  },
  {
   "cell_type": "code",
   "execution_count": 5,
   "metadata": {},
   "outputs": [
    {
     "name": "stdout",
     "output_type": "stream",
     "text": [
      "Median and Mean over data in figure range for neuron 21: 13.880962 23.52102 25.04233\n",
      "Median and Mean over data in figure range for neuron 61: 9.521699 15.920856 17.941347\n",
      "Median and Mean over data in figure range for neuron 91: 6.161741 12.497838 16.73361\n"
     ]
    },
    {
     "data": {
      "image/png": "[encoded data removed]",
      "text/plain": [
       "<Figure size 864x432 with 1 Axes>"
      ]
     },
     "metadata": {
      "needs_background": "light"
     },
     "output_type": "display_data"
    }
   ],
   "source": [
    "import seaborn as sns\n",
    "\n",
    "ub, lb = (100, 1)\n",
    "neuron_id_list = [21, 61, 91]#50, 47]  \n",
    "# neuron_id_list = [21, 69, 91, 90, 52, 64, 72, 56, 49, 50, 44,  8, 10,  3, 88, 33, 47]\n",
    "#        16, 82, 73, 70,  0,  4, 32, 89, 40, 77, 42,  7, 30, 20, 14, 96, 68,\n",
    "#        78, 79, 55, 94, 58, 34, 35, 22, 98, 12, 75, 13, 54, 39, 80, 87, 24,\n",
    "#        31, 86, 92, 60, 11, 57, 62, 95, 36,  1, 74, 38, 41, 99, 59, 61,  2,\n",
    "#        65, 23, 97, 53,  6, 17, 29, 46, 76, 15, 83,  9, 71, 19, 67, 81, 48,\n",
    "#        85,  5, 93, 26, 43, 63, 27, 66, 45, 28, 25, 37, 18, 84, 51]   # by corr\n",
    "\n",
    "# Use a Seaborn color palette\n",
    "palette = sns.color_palette(\"Set2\", n_colors=len(neuron_id_list))\n",
    "\n",
    "plt.figure(figsize=(12, 6))\n",
    "for i, neuron_id in enumerate(neuron_id_list):\n",
    "    filtered_data = responses[(ub >= responses[:, neuron_id]) & (responses[:, neuron_id] >= lb), neuron_id]\n",
    "#     print(f\"Median and Mean over all data for neuron {neuron_id}:\", np.median(responses[:, neuron_id]), np.mean(responses[:, neuron_id]))\n",
    "    print(f\"Median and Mean over data in figure range for neuron {neuron_id}:\", np.median(filtered_data), np.mean(filtered_data), np.std(filtered_data))\n",
    "#     sns.axvline(x = np.mean(responses[:, neuron_id], color = palette[i])\n",
    "    sns.histplot(filtered_data, bins=100, label=f'Neuron {neuron_id} - {len(filtered_data)}', alpha=0.5, color=palette[i])\n",
    "\n",
    "plt.title(f'responses[responses[:, {ub} >= {neuron_id_list} >= {lb}]')\n",
    "plt.legend()\n",
    "plt.show()\n",
    "plt.show()"
   ]
  },
  {
   "cell_type": "code",
   "execution_count": 6,
   "metadata": {},
   "outputs": [
    {
     "data": {
      "text/plain": [
       "array([False, False, False, ..., False, False, False])"
      ]
     },
     "execution_count": 6,
     "metadata": {},
     "output_type": "execute_result"
    }
   ],
   "source": [
    "(ub >= responses[:, neuron_id]) & (responses[:, neuron_id] >= lb)"
   ]
  },
  {
   "cell_type": "code",
   "execution_count": 7,
   "metadata": {},
   "outputs": [
    {
     "data": {
      "text/plain": [
       "array([ True,  True,  True, ...,  True,  True,  True])"
      ]
     },
     "execution_count": 7,
     "metadata": {},
     "output_type": "execute_result"
    }
   ],
   "source": [
    "ub >= responses[:, neuron_id]"
   ]
  },
  {
   "cell_type": "code",
   "execution_count": 8,
   "metadata": {},
   "outputs": [
    {
     "data": {
      "text/plain": [
       "array([-16.503746  , -15.619617  , -17.686039  , ..., -16.690353  ,\n",
       "        -0.28295246, -15.634479  ], dtype=float32)"
      ]
     },
     "execution_count": 8,
     "metadata": {},
     "output_type": "execute_result"
    }
   ],
   "source": [
    "np.log(responses[:, 21])"
   ]
  },
  {
   "cell_type": "code",
   "execution_count": 9,
   "metadata": {},
   "outputs": [],
   "source": [
    "arr = np.log(responses[responses[:, 21]>0, 21])"
   ]
  },
  {
   "cell_type": "code",
   "execution_count": 10,
   "metadata": {},
   "outputs": [
    {
     "data": {
      "text/plain": [
       "(array([  1.,   0.,   0.,   0.,   1.,   0.,   0.,   0.,   0.,   1.,   1.,\n",
       "          2.,   2.,   3.,  10.,   7.,  16.,  23.,  31.,  76., 107., 164.,\n",
       "        236., 309., 368., 386., 372., 321., 287., 226., 161., 144., 113.,\n",
       "         65.,  61.,  33.,  21.,  21.,  12.,   5.,   4.,   5.,   3.,   3.,\n",
       "          0.,   0.,   1.,   2.,   0.,   0.,   0.,   2.,   0.,   0.,   0.,\n",
       "          0.,   0.,   0.,   0.,   0.,   0.,   0.,   1.,   0.,   1.,   0.,\n",
       "          0.,   0.,   2.,   2.,   4.,   3.,   6.,   8.,   5.,  11.,  15.,\n",
       "          9.,  24.,  32.,  32.,  30.,  44.,  71.,  60.,  58.,  63.,  80.,\n",
       "         89.,  95.,  95.,  65.,  78.,  59.,  61.,  73.,  62.,  53.,  43.,\n",
       "         11.]),\n",
       " array([-2.3778784e+01, -2.3481422e+01, -2.3184059e+01, -2.2886698e+01,\n",
       "        -2.2589334e+01, -2.2291973e+01, -2.1994612e+01, -2.1697248e+01,\n",
       "        -2.1399887e+01, -2.1102526e+01, -2.0805162e+01, -2.0507801e+01,\n",
       "        -2.0210438e+01, -1.9913076e+01, -1.9615715e+01, -1.9318352e+01,\n",
       "        -1.9020990e+01, -1.8723629e+01, -1.8426266e+01, -1.8128904e+01,\n",
       "        -1.7831541e+01, -1.7534180e+01, -1.7236818e+01, -1.6939455e+01,\n",
       "        -1.6642094e+01, -1.6344732e+01, -1.6047369e+01, -1.5750008e+01,\n",
       "        -1.5452645e+01, -1.5155283e+01, -1.4857921e+01, -1.4560559e+01,\n",
       "        -1.4263197e+01, -1.3965835e+01, -1.3668472e+01, -1.3371111e+01,\n",
       "        -1.3073749e+01, -1.2776386e+01, -1.2479024e+01, -1.2181663e+01,\n",
       "        -1.1884300e+01, -1.1586938e+01, -1.1289576e+01, -1.0992214e+01,\n",
       "        -1.0694852e+01, -1.0397490e+01, -1.0100127e+01, -9.8027658e+00,\n",
       "        -9.5054035e+00, -9.2080412e+00, -8.9106789e+00, -8.6133165e+00,\n",
       "        -8.3159552e+00, -8.0185928e+00, -7.7212305e+00, -7.4238687e+00,\n",
       "        -7.1265063e+00, -6.8291445e+00, -6.5317822e+00, -6.2344203e+00,\n",
       "        -5.9370580e+00, -5.6396961e+00, -5.3423338e+00, -5.0449719e+00,\n",
       "        -4.7476096e+00, -4.4502478e+00, -4.1528854e+00, -3.8555236e+00,\n",
       "        -3.5581615e+00, -3.2607994e+00, -2.9634373e+00, -2.6660752e+00,\n",
       "        -2.3687131e+00, -2.0713511e+00, -1.7739888e+00, -1.4766268e+00,\n",
       "        -1.1792647e+00, -8.8190258e-01, -5.8454049e-01, -2.8717837e-01,\n",
       "         1.0183716e-02,  3.0754581e-01,  6.0490793e-01,  9.0227002e-01,\n",
       "         1.1996320e+00,  1.4969941e+00,  1.7943562e+00,  2.0917184e+00,\n",
       "         2.3890805e+00,  2.6864426e+00,  2.9838047e+00,  3.2811668e+00,\n",
       "         3.5785289e+00,  3.8758910e+00,  4.1732531e+00,  4.4706149e+00,\n",
       "         4.7679772e+00,  5.0653391e+00,  5.3627014e+00,  5.6600633e+00,\n",
       "         5.9574256e+00], dtype=float32),\n",
       " <BarContainer object of 100 artists>)"
      ]
     },
     "execution_count": 10,
     "metadata": {},
     "output_type": "execute_result"
    },
    {
     "data": {
      "image/png": "[encoded data removed]",
      "text/plain": [
       "<Figure size 432x288 with 1 Axes>"
      ]
     },
     "metadata": {
      "needs_background": "light"
     },
     "output_type": "display_data"
    }
   ],
   "source": [
    "plt.hist(arr, bins=100)"
   ]
  },
  {
   "cell_type": "code",
   "execution_count": 11,
   "metadata": {},
   "outputs": [
    {
     "name": "stdout",
     "output_type": "stream",
     "text": [
      "Median and Mean over data in figure range for neuron 21: 13.880962 23.52102 25.04233\n",
      "Median and Mean over data in figure range for neuron 37: 4.2750115 7.8484783 10.4186945\n",
      "Median and Mean over data in figure range for neuron 75: 6.424845 11.908856 15.320367\n",
      "Median and Mean over data in figure range for neuron 60: 5.8590693 11.648198 15.721703\n"
     ]
    },
    {
     "data": {
      "image/png": "[encoded data removed]",
      "text/plain": [
       "<Figure size 864x432 with 1 Axes>"
      ]
     },
     "metadata": {
      "needs_background": "light"
     },
     "output_type": "display_data"
    }
   ],
   "source": [
    "import seaborn as sns\n",
    "\n",
    "ub, lb = (100, 1)\n",
    "neuron_id_list = [21, 37, 75, 60]#50, 47]  \n",
    "# neuron_id_list = [21, 69, 91, 90, 52, 64, 72, 56, 49, 50, 44,  8, 10,  3, 88, 33, 47]\n",
    "#        16, 82, 73, 70,  0,  4, 32, 89, 40, 77, 42,  7, 30, 20, 14, 96, 68,\n",
    "#        78, 79, 55, 94, 58, 34, 35, 22, 98, 12, 75, 13, 54, 39, 80, 87, 24,\n",
    "#        31, 86, 92, 60, 11, 57, 62, 95, 36,  1, 74, 38, 41, 99, 59, 61,  2,\n",
    "#        65, 23, 97, 53,  6, 17, 29, 46, 76, 15, 83,  9, 71, 19, 67, 81, 48,\n",
    "#        85,  5, 93, 26, 43, 63, 27, 66, 45, 28, 25, 37, 18, 84, 51]   # by corr\n",
    "\n",
    "# Use a Seaborn color palette\n",
    "palette = sns.color_palette(\"Set2\", n_colors=len(neuron_id_list))\n",
    "\n",
    "plt.figure(figsize=(12, 6))\n",
    "for i, neuron_id in enumerate(neuron_id_list):\n",
    "    filtered_data = responses[(ub >= responses[:, neuron_id]) & (responses[:, neuron_id] >= lb), neuron_id]\n",
    "#     print(f\"Median and Mean over all data for neuron {neuron_id}:\", np.median(responses[:, neuron_id]), np.mean(responses[:, neuron_id]))\n",
    "    print(f\"Median and Mean over data in figure range for neuron {neuron_id}:\", np.median(filtered_data), np.mean(filtered_data), np.std(filtered_data))\n",
    "#     sns.axvline(x = np.mean(responses[:, neuron_id], color = palette[i])\n",
    "    sns.histplot(filtered_data, bins=100, label=f'Neuron {neuron_id} - {len(filtered_data)}', alpha=0.5, color=palette[i])\n",
    "\n",
    "plt.title(f'responses[responses[:, {ub} >= {neuron_id_list} >= {lb}]')\n",
    "plt.legend()\n",
    "plt.show()\n",
    "plt.show()"
   ]
  },
  {
   "cell_type": "markdown",
   "metadata": {},
   "source": [
    "# Tailness Analysis"
   ]
  },
  {
   "cell_type": "code",
   "execution_count": 23,
   "metadata": {},
   "outputs": [],
   "source": [
    "from scipy.stats import kurtosis"
   ]
  },
  {
   "cell_type": "code",
   "execution_count": 24,
   "metadata": {},
   "outputs": [
    {
     "data": {
      "text/plain": [
       "9.322416274308999"
      ]
     },
     "execution_count": 24,
     "metadata": {},
     "output_type": "execute_result"
    }
   ],
   "source": [
    "kurtosis(filtered_data)"
   ]
  },
  {
   "cell_type": "code",
   "execution_count": 43,
   "metadata": {},
   "outputs": [],
   "source": [
    "# % dip in correlation from the max correlation for 100 neurons\n",
    "\n",
    "# arr = [37, 51, 45, 75, 66, 27, 60, 63, 83, 43, 18, 74, 15, 35, 57, 28, 84,\n",
    "#        85, 19, 99, 12, 38, 77, 31, 71, 25, 39, 13, 95,  1, 34, 36, 76, 26,\n",
    "#        96, 79, 93, 73, 64, 97, 92, 46, 48,  2, 23,  6, 17, 33, 68, 94, 98,\n",
    "#        16, 86, 53, 69, 32, 65, 42,  0, 88, 81, 54, 14, 61, 40, 50, 89, 67,\n",
    "#        78, 29, 82,  3, 90, 52, 70, 56, 22, 87, 80,  4, 11, 55, 62, 58, 20,\n",
    "#        10, 24,  8, 41, 47, 49, 72,  7, 21, 91, 44,  5, 30,  9, 59]\n",
    "\n",
    "arr = [6159, 4178, 1890, 1845, 6627,  121, 4400, 3643, 3995,  174, 5682,\n",
    "       3805, 3121, 6142, 7297, 4770, 6503, 3527,  595, 1310, 6393, 2526,\n",
    "       1019, 1922,  472, 3097, 6801, 2223, 6753, 7221, 3332,  870,  392,\n",
    "       3819, 6736, 2935, 2130, 4604, 4906,  547,  465, 5806,  898, 6567,\n",
    "       2439, 6243, 6697, 5076, 5513, 2114, 5197, 1035, 3732, 4825, 4744,\n",
    "       5947, 5059,  452, 7172, 7354, 1785, 6338, 1354, 4445, 6595,  344,\n",
    "       4506, 7342, 6887, 2717, 6281, 7706, 1220, 4925, 6872, 4809, 7214,\n",
    "       2438,  677, 3629, 2940, 3061, 6527,  115, 7316, 3440, 1369, 2872,\n",
    "       6327, 1428, 6279, 6096, 5014, 1015, 7392, 6020, 1961, 2713, 2793,\n",
    "       2398, 5278,  784, 6520, 4556,  936, 4567, 2292, 5622, 1324, 1125,\n",
    "       6982, 6105, 6553, 2361,  310, 4456, 1215,  487, 6396, 2195, 4072,\n",
    "       5090, 1406, 2224, 7375,  341,  664, 1926, 7639, 4195, 7174,  944,\n",
    "       7666, 7341, 4862, 3775, 1439, 6634,  173, 2995, 4074, 5136, 2953,\n",
    "       7244, 3104,  768, 7191, 6214, 4919, 2140, 6093, 7405, 4795,  816,\n",
    "       5791, 4477, 7343, 4080, 3051, 4222, 6204, 4967, 5972, 1356, 6526,\n",
    "        526, 2614, 2921,  146, 6726, 3822,  596,  702,  347, 2540, 6537,\n",
    "       5766, 5711, 5043, 7580,  582, 2025,  605, 4804, 5798, 4205, 6948,\n",
    "       7235, 3286, 3958, 2334,  644, 2498, 5142, 4397, 3769, 3088, 4393,\n",
    "       6877, 2645, 3509, 4728, 7323, 3954, 3695, 4889, 4933, 2069,  581,\n",
    "       5188, 3041,  549,  878, 1352, 2488, 4747, 6365, 3535, 4724,  429,\n",
    "       1187,  412, 7460, 3810, 1279, 3924, 5674, 4186, 7601,  381,  416,\n",
    "       4005, 3685, 3692, 1402, 7478, 2626, 3115, 2669, 4277, 6309, 2282,\n",
    "       4798, 1401, 1899, 1110, 1413,  359, 2086, 5574,  235, 1724, 4000,\n",
    "       5664, 4285, 2948, 7081, 3650, 1868, 6966, 2200, 2796, 1876, 1532,\n",
    "       6398, 4463, 6646,  685, 3333, 5486, 5000, 6437, 1872, 7555, 5315,\n",
    "       6556, 4818, 4697, 2901, 5531, 5881, 5799, 6120,  357, 5091, 5293,\n",
    "       4493, 3766, 7467, 4800,  684,   63, 1099, 3434,  980, 1017, 5235,\n",
    "       5194,  376, 7068, 5801, 5046, 1758, 2164, 5812, 2866, 1856, 1416,\n",
    "       1943, 6702, 2087,  133, 3011,  422, 2218, 2603, 6099, 6171, 2010,\n",
    "       1088, 1991, 1273, 5877, 5008, 1365, 5322, 5691, 5029, 5837, 6312,\n",
    "       6896, 2946, 1853,  321, 5516, 6382, 3449, 3994, 4116, 6621, 6714,\n",
    "       1397, 5199, 6073, 4207, 3808, 5585, 6679, 1948, 6543, 2211, 4208,\n",
    "       3193,  298, 5609, 1393, 7373, 4888,  514, 2663, 6518, 6463, 2059,\n",
    "        849, 6825, 5639, 6961, 7631, 4390, 5818, 3666, 3014, 3326, 5589,\n",
    "        668, 5634, 5309, 7428, 1311, 2598, 5915, 7419, 7590, 7495, 7232,\n",
    "       4635, 7393, 3625, 1264, 2707,  594, 7475, 7198, 1082,   83,  616,\n",
    "       1448, 2846, 5762, 5761, 2117, 2830, 7681, 5606, 1650, 1288, 5346,\n",
    "       7617, 3102, 5219, 6990,  678, 3298, 2807, 3240, 6699,  254, 6875,\n",
    "       2256, 5770, 2088, 4714,  492, 5912, 1975, 4199, 6310, 3178, 3801,\n",
    "       7682, 4597, 6718, 3864, 1894, 7291, 1630, 3902, 4433, 7246,   43,\n",
    "       1360, 1963, 1265, 5241,  228, 5386, 3860, 4194, 3945, 6043, 7573,\n",
    "       1487, 6639, 4204, 3710, 1332, 7108, 5804, 2801, 4291, 7642,  559,\n",
    "       5010, 3199, 7329, 5131, 2402, 5206, 5754,  189, 4628, 4114, 6890,\n",
    "       6481, 2728, 3085, 4041,  443, 5037, 6098, 1189, 1495, 2616, 7047,\n",
    "       2653, 4619, 4010, 7670, 1930, 6662, 7184, 5295, 6060, 1050, 2392,\n",
    "       4233, 5098, 6529,  908, 3352, 6153, 3006, 1940, 1793, 5755, 3173,\n",
    "        764, 4926, 7751, 2422, 5283, 2679, 5751, 1065,   18, 4421,  689,\n",
    "       4588, 4045, 3112, 2109,  525,  695, 4533, 7040, 1791, 2752, 5254,\n",
    "       5790, 6090,  925, 7192, 4583, 2452, 6893,  745, 6083, 5144, 5107,\n",
    "       5833, 1076, 5769, 6425, 1611, 3658, 1249,  427, 3420, 5697, 1062,\n",
    "       6140, 6724, 3408, 3364, 3438, 5271, 7351, 4602, 1005,  630, 4258,\n",
    "       5862, 7071, 2736, 5397, 2591, 4319, 4813, 1137, 4702, 4145, 4841,\n",
    "       3244, 1605, 3802, 4977, 4534, 2806,  238, 2875,  631, 3814, 6766,\n",
    "       4355, 1475, 1797,  740, 1668, 2363, 7544, 3714,  225, 3208, 4834,\n",
    "       3177, 4904, 4756, 3796, 6906, 7756, 3261, 4286, 1966, 6564, 6898,\n",
    "        796, 2447, 3782, 7043, 3632, 1127, 2052,  607,  866, 2118, 2273,\n",
    "       2564, 2690, 3368, 4854, 3871, 4912, 4727, 6568, 5563,  450, 6277,\n",
    "       5967, 3416, 3355, 1707, 4591,  729, 5938, 3248,  482, 3852, 3057,\n",
    "        355, 1713, 4553, 2925, 2287, 4839,  673, 4815, 5368, 7501, 2743,\n",
    "        354, 5473, 1259,  197, 3987, 6291, 4745, 1728, 7479, 6023, 3724,\n",
    "       3564, 3734, 6191, 3568, 4876, 7117, 4790, 1493, 1741, 3259, 5522,\n",
    "       5759, 5980, 6837, 4665, 6605, 2345,  587, 5482, 1998, 3970, 5733,\n",
    "       7372, 2874, 3310, 5185, 3128, 4566, 1456, 5097, 4173, 2290, 3682,\n",
    "       2485, 1385, 2210, 4435,  927, 3820, 2037, 2160,  658, 4060, 4348,\n",
    "        696, 4088, 2758, 7276, 1902, 4902, 2221, 2523, 6379,  628,  926,\n",
    "        751, 6603, 1738, 1213,  179, 6193,  734, 4826,  395, 4504, 6313,\n",
    "       6810, 1269, 7154,  204, 3473, 3401, 5604, 6219, 5515, 6802, 4242,\n",
    "       6546, 5689, 1813, 5695, 3468,  150, 5968,  615, 4830, 1337,  868,\n",
    "       2321, 3118, 6469, 2004, 5181, 6845, 2913, 1447, 7116, 3952, 5326,\n",
    "       7242, 5666, 2478, 6260, 6764, 2962, 3720, 5529,  124, 3237, 3690,\n",
    "       2254, 1483, 7118, 3280, 2235, 2027, 1138, 5817, 4683, 2544,  992,\n",
    "        690, 5767,  737, 4563, 2175, 2465,  451,  350, 2635, 3090, 2369,\n",
    "       2661, 2779, 5878, 7352, 2791, 4911, 4643,  806, 4349, 6653, 3593,\n",
    "       1421, 5083, 2329, 3534, 7632, 3063, 1742, 2631,  647, 5297, 2346,\n",
    "       5970, 6133, 4982, 2003, 1275, 6698, 3084, 6395, 4455, 3158, 5317,\n",
    "       5591, 1366, 6106, 2185, 4425, 3910,  180, 7275, 5111, 4261, 5842,\n",
    "       5094, 3791, 6128, 5935, 2278,   74, 3366, 2831, 4652, 1496, 6378,\n",
    "       4389, 3972, 2571, 5746, 7769, 4271, 6107, 5712,  568, 5288, 5569,\n",
    "        672, 5534, 2722,  207, 2391, 5995, 6860, 2424, 2951, 1479, 7767,\n",
    "       1800, 2528, 4046, 1422, 1232, 5998, 2332, 5349,  322, 2827, 7738,\n",
    "       4532, 4263, 2443, 5957, 4431, 3012, 1747, 1434, 3032, 3930,  629,\n",
    "       6610, 5979, 4209, 6156, 3776, 4732,  782,  201, 6614,  372,  103,\n",
    "       1523, 3855, 4262, 5417, 3362, 2293, 1598, 3187, 6865, 4934, 7065,\n",
    "       2811, 3893, 4758, 4318,  610, 2668, 6748, 7104, 5296, 2451, 6949,\n",
    "       4562, 3291,  165, 7388, 5344, 3973,  511, 1981, 4742, 3499, 6829,\n",
    "         15, 1757, 4057, 4485, 5365,  183,  752,  959, 1828, 7701, 6889,\n",
    "       2058, 1238, 3215, 3082, 2778, 1784, 3719, 1056,   35,  820, 3867,\n",
    "       5395, 5214, 3831, 5681, 6885, 2234, 6192, 4373, 7689, 6727, 1851,\n",
    "         57, 4063, 6112, 7095, 4848, 1695, 7616, 3610, 7746, 1604, 3890,\n",
    "       6888, 2162, 7158, 5528, 1980, 4663, 2257,  462, 5449, 6659, 3137,\n",
    "       6392, 1659,  444, 6573, 2681, 2787, 3712, 7391, 3396, 1710]"
   ]
  },
  {
   "cell_type": "code",
   "execution_count": 44,
   "metadata": {},
   "outputs": [],
   "source": [
    "kur_arr = []\n",
    "ub, lb = (100, 1)\n",
    "for neuron_id in arr:\n",
    "    filtered_data = responses[(ub >= responses[:, neuron_id]) & (responses[:, neuron_id] >= lb), neuron_id]\n",
    "    kur_arr.append(kurtosis(filtered_data))"
   ]
  },
  {
   "cell_type": "code",
   "execution_count": 45,
   "metadata": {},
   "outputs": [
    {
     "data": {
      "text/plain": [
       "[<matplotlib.lines.Line2D at 0x1458884acd90>]"
      ]
     },
     "execution_count": 45,
     "metadata": {},
     "output_type": "execute_result"
    },
    {
     "data": {
      "image/png": "[encoded data removed]",
      "text/plain": [
       "<Figure size 432x288 with 1 Axes>"
      ]
     },
     "metadata": {
      "needs_background": "light"
     },
     "output_type": "display_data"
    }
   ],
   "source": [
    "plt.plot(kur_arr)"
   ]
  },
  {
   "cell_type": "code",
   "execution_count": 39,
   "metadata": {},
   "outputs": [
    {
     "data": {
      "text/plain": [
       "(6955, 7776)"
      ]
     },
     "execution_count": 39,
     "metadata": {},
     "output_type": "execute_result"
    }
   ],
   "source": [
    "responses.shape"
   ]
  },
  {
   "cell_type": "code",
   "execution_count": null,
   "metadata": {},
   "outputs": [],
   "source": []
  }
 ],
 "metadata": {
  "kernelspec": {
   "display_name": "Python 3",
   "language": "python",
   "name": "python3"
  },
  "language_info": {
   "codemirror_mode": {
    "name": "ipython",
    "version": 3
   },
   "file_extension": ".py",
   "mimetype": "text/x-python",
   "name": "python",
   "nbconvert_exporter": "python",
   "pygments_lexer": "ipython3",
   "version": "3.8.0"
  }
 },
 "nbformat": 4,
 "nbformat_minor": 4
}
